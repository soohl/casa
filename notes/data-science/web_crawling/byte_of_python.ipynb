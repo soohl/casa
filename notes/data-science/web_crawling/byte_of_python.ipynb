{
 "cells": [
  {
   "cell_type": "code",
   "execution_count": 2,
   "metadata": {},
   "outputs": [
    {
     "name": "stdout",
     "output_type": "stream",
     "text": [
      "swoop was 20 years old when he wrote this page\n",
      "shawn wrote python\n"
     ]
    }
   ],
   "source": [
    "#String formatting\n",
    "\n",
    "age = 20\n",
    "name = \"swoop\"\n",
    "\n",
    "print('{0} was {1} years old when he wrote this page'.format(name,age))\n",
    "\n",
    "print('{name} wrote {book}'.format(name=\"shawn\", book=\"python\"))"
   ]
  },
  {
   "cell_type": "code",
   "execution_count": 6,
   "metadata": {},
   "outputs": [
    {
     "name": "stdout",
     "output_type": "stream",
     "text": [
      "x is 50\n",
      "changed global x to 2\n",
      "2\n"
     ]
    }
   ],
   "source": [
    "# Variable\n",
    "\n",
    "x = 50\n",
    "def func():\n",
    "    global x\n",
    "    print ('x is',x)\n",
    "    x=2\n",
    "    print('changed global x to',x)\n",
    "    \n",
    "func()\n",
    "print(x)"
   ]
  },
  {
   "cell_type": "code",
   "execution_count": 8,
   "metadata": {},
   "outputs": [
    {
     "name": "stdout",
     "output_type": "stream",
     "text": [
      "Hello\n",
      "HelloHello\n"
     ]
    }
   ],
   "source": [
    "def say(message,times=1):\n",
    "    print(message * times)\n",
    "    \n",
    "say('Hello')\n",
    "say('Hello',times = 2)"
   ]
  },
  {
   "cell_type": "code",
   "execution_count": 10,
   "metadata": {},
   "outputs": [
    {
     "name": "stdout",
     "output_type": "stream",
     "text": [
      "166\n"
     ]
    }
   ],
   "source": [
    "# VARARGS variable\n",
    "\n",
    "def total(initial=5,*numbers,**keywords):\n",
    "    count = initial\n",
    "    for number in numbers:\n",
    "        count += number\n",
    "    for key in keywords:\n",
    "        count += keywords[key]\n",
    "    return count\n",
    "\n",
    "print(total(10,1,2,3,vegetables=50,fruits=100))"
   ]
  },
  {
   "cell_type": "code",
   "execution_count": 16,
   "metadata": {},
   "outputs": [
    {
     "name": "stdout",
     "output_type": "stream",
     "text": [
      "I have 4 fruits\n",
      "apple\n",
      "mango\n",
      "carrot\n",
      "banana\n"
     ]
    }
   ],
   "source": [
    "# LIST\n",
    "\n",
    "shoplist = ['apple','mango','carrot','banana']\n",
    "\n",
    "print('I have {0} fruits'.format(len(shoplist)))\n",
    "\n",
    "for item in shoplist:\n",
    "    print(item)\n",
    "\n",
    "shoplist.append('rice')"
   ]
  },
  {
   "cell_type": "code",
   "execution_count": 25,
   "metadata": {},
   "outputs": [
    {
     "name": "stdout",
     "output_type": "stream",
     "text": [
      "3 number of animals\n",
      "3 number of animals\n",
      "monkey\n",
      "camel\n",
      "('python', 'elephant', 'penguin')\n"
     ]
    }
   ],
   "source": [
    "# Tuple\n",
    "zoo = ('python','elephant','penguin')\n",
    "print('{0} number of animals'.format(len(zoo)))\n",
    "\n",
    "new_zoo = 'monkey','camel',zoo\n",
    "print('{0} number of animals'.format(len(new_zoo))) \n",
    "for animal in new_zoo:\n",
    "    print(animal)"
   ]
  },
  {
   "cell_type": "code",
   "execution_count": 36,
   "metadata": {},
   "outputs": [
    {
     "name": "stdout",
     "output_type": "stream",
     "text": [
      "swoop address is swoop@gmail.com\n",
      "contact swoop at swoop@gmail.com\n",
      "contact larry at larry@gmail.com\n",
      "contact spammer at spammer@hanmail.net\n"
     ]
    }
   ],
   "source": [
    "# Dictionary\n",
    "\n",
    "ab = { 'swoop' : 'swoop@gmail.com',\n",
    "       'larry' : 'larry@gmail.com',\n",
    "       'spammer': 'spammer@hanmail.net'\n",
    "}\n",
    "\n",
    "print('swoop address is {0}'.format(ab['swoop']))\n",
    "\n",
    "#del ab['swoop']\n",
    "\n",
    "for name, address in ab.items():\n",
    "    print('contact {} at {}'.format(name,address))"
   ]
  },
  {
   "cell_type": "code",
   "execution_count": 47,
   "metadata": {},
   "outputs": [
    {
     "name": "stdout",
     "output_type": "stream",
     "text": [
      "banana\n",
      "carrot\n",
      "['mango', 'carrot']\n",
      "['carrot', 'banana']\n",
      "['mango', 'carrot']\n",
      "['apple', 'mango', 'carrot', 'banana']\n",
      "['apple', 'mango', 'carrot', 'banana']\n",
      "['apple', 'carrot']\n",
      "['apple', 'banana']\n"
     ]
    }
   ],
   "source": [
    "shoplist = ['apple','mango','carrot','banana']\n",
    "\n",
    "print(shoplist[-1])\n",
    "print(shoplist[-2])\n",
    "\n",
    "print(shoplist[1:3])\n",
    "print(shoplist[2:])\n",
    "print(shoplist[1:-1])\n",
    "print(shoplist[:])\n",
    "\n",
    "print(shoplist[::1])\n",
    "print(shoplist[::2])\n",
    "print(shoplist[::3])\n",
    "\n",
    "\n",
    "bri = set(['brazil', 'russia','india'])\n",
    "\n",
    "'india' in bri\n",
    "\n",
    "bri.add('china')\n",
    "\n",
    "\n"
   ]
  },
  {
   "cell_type": "code",
   "execution_count": 52,
   "metadata": {},
   "outputs": [
    {
     "name": "stdout",
     "output_type": "stream",
     "text": [
      "hello, my name is john\n"
     ]
    }
   ],
   "source": [
    "class Person:\n",
    "    def __init__(self,name):\n",
    "        self.name = name\n",
    "    def say_hi(self):\n",
    "        print(\"hello, my name is\", self.name)\n",
    "\n",
    "p = Person(\"john\")\n",
    "p.say_hi()"
   ]
  },
  {
   "cell_type": "code",
   "execution_count": 56,
   "metadata": {},
   "outputs": [
    {
     "name": "stdout",
     "output_type": "stream",
     "text": [
      "Initial school member: Shawn\n",
      "Initial school member: Shawn\n",
      "Name: Shawn Age: 11\n",
      "Marks: 100\n"
     ]
    }
   ],
   "source": [
    "#Inheritance\n",
    "class SchoolMember:\n",
    "    \n",
    "    def __init__(self,name,age):\n",
    "        self.name = name\n",
    "        self.age = age\n",
    "        print('Initial school member: {}'.format(self.name))\n",
    "    def tell(self):\n",
    "        print('Name: {} Age: {}'.format(self.name, self.age))\n",
    "    \n",
    "class Teacher(SchoolMember):\n",
    "    \n",
    "    def __init__(self,name,age,marks):\n",
    "        SchoolMember.__init__(self,name,age)\n",
    "        self.marks = marks\n",
    "        \n",
    "        print('Initial school member: {}'.format(self.name))\n",
    "        \n",
    "    def tell(self):\n",
    "        SchoolMember.tell(self)\n",
    "        print('Marks: {}'.format(self.marks))\n",
    "\n",
    "t = Teacher(\"Shawn\", 11, 100)\n",
    "t.tell()"
   ]
  }
 ],
 "metadata": {
  "kernelspec": {
   "display_name": "Python 3",
   "language": "python",
   "name": "python3"
  },
  "language_info": {
   "codemirror_mode": {
    "name": "ipython",
    "version": 3
   },
   "file_extension": ".py",
   "mimetype": "text/x-python",
   "name": "python",
   "nbconvert_exporter": "python",
   "pygments_lexer": "ipython3",
   "version": "3.6.6"
  }
 },
 "nbformat": 4,
 "nbformat_minor": 2
}