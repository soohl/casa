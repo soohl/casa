{
 "cells": [
  {
   "cell_type": "code",
   "execution_count": 36,
   "metadata": {},
   "outputs": [
    {
     "name": "stdout",
     "output_type": "stream",
     "text": [
      "caching sha2: succeeded by fast path.\n",
      "(1345678911, 'andew', 'Thanks ioen')\n",
      "(134565768, 'dsfsdfsd', 'dfsdfsddsf')\n",
      "(1530621315, 'python', 'man im so cool')\n",
      "(1530621405, 'python', 'man im so cool')\n"
     ]
    }
   ],
   "source": [
    "import pymysql, time\n",
    "\n",
    "# LOCAL HOST, USERID, USERPW, DB NAME \n",
    "db = pymysql.connect(\"localhost\",\"root\",\"smw012326\",\"tutorial\")\n",
    "\n",
    "username = 'python'\n",
    "tweet = 'man im so cool'\n",
    "\n",
    "cursor = db.cursor()\n",
    "\n",
    "try:\n",
    "    cursor.execute(\"INSERT INTO taula (time,username,tweet) VALUES (%s,%s,%s)\" ,(time.time(),username,tweet))\n",
    "    #cursor.execute(\"DELETE FROM taula WHER\")\n",
    "    #cursor.execute(\"INSERT INTO taula VALUES (134565768,'dsfsdfsd','dfsdfsddsf')\")\n",
    "    #cursor.execute(\"UPDATE taula SET username='andrew' WHERE username='andew'\")\n",
    "    cursor.execute(\"SELECT * FROM taula\")\n",
    "\n",
    "    results = cursor.fetchall()\n",
    "    for result in results:\n",
    "        print(result)\n",
    "    \n",
    "    db.commit()\n",
    "\n",
    "except:\n",
    "    print(\"Unable to fetch\")\n",
    "    \n",
    "\n",
    "db.close()"
   ]
  },
  {
   "cell_type": "code",
   "execution_count": null,
   "metadata": {},
   "outputs": [],
   "source": []
  }
 ],
 "metadata": {
  "kernelspec": {
   "display_name": "Python 3",
   "language": "python",
   "name": "python3"
  },
  "language_info": {
   "codemirror_mode": {
    "name": "ipython",
    "version": 3
   },
   "file_extension": ".py",
   "mimetype": "text/x-python",
   "name": "python",
   "nbconvert_exporter": "python",
   "pygments_lexer": "ipython3",
   "version": "3.6.6"
  }
 },
 "nbformat": 4,
 "nbformat_minor": 2
}
