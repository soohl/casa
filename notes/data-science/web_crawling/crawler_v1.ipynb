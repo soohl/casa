{
 "cells": [
  {
   "cell_type": "code",
   "execution_count": 53,
   "metadata": {},
   "outputs": [
    {
     "name": "stdout",
     "output_type": "stream",
     "text": [
      "네이버 실시간 검색어\n",
      "1 홍수현\n",
      "2 스페인 러시아\n",
      "3 마이크로닷\n",
      "4 홍수현 나이\n",
      "5 임원희\n",
      "6 김건모 테이블\n",
      "7 히든싱어5\n",
      "8 김희애\n",
      "9 미운우리새끼\n",
      "10 김희애 나이\n",
      "11 내 딸의 남자들3\n",
      "12 무법변호사\n",
      "13 로또813회당첨번호\n",
      "14 태풍 쁘라삐룬\n",
      "15 라이프 온 마스\n",
      "16 태풍경로\n",
      "17 런닝맨\n",
      "18 음바페\n",
      "19 크로아티아 덴마크\n",
      "20 울산날씨\n"
     ]
    }
   ],
   "source": [
    "import requests as rq\n",
    "from bs4 import BeautifulSoup as bs\n",
    "req = rq.get('https://www.naver.com/')\n",
    "\n",
    "html = req.text\n",
    "soup = bs(html,'html.parser')\n",
    "realtimelist = soup.select('.PM_CL_realtimeKeyword_rolling_base span[class=\"ah_k\"]')\n",
    "\n",
    "print(\"네이버 실시간 검색어\")\n",
    "for idx, title in enumerate(realtimelist, 1):\n",
    "    print(idx, title.text)"
   ]
  },
  {
   "cell_type": "code",
   "execution_count": 64,
   "metadata": {},
   "outputs": [
    {
     "name": "stdout",
     "output_type": "stream",
     "text": [
      "---가장 많이 본 뉴스---\n",
      "김정은, 옷 풀어헤치고 낡은 차…'소탈 행보' 의도는?\n",
      "\"이 정도면 장관이 옷 벗어야\" 與의원들 '부글부글'\n",
      "[단독] 美 '성 김' 극비 방한…판문점 북미 접촉 재가동\n",
      "여야, 이번 주 원 구성 본격 협상…의장·상임위 배분 '수 싸움'\n",
      "[단독]‘文’ 지키는 친문 핵심 ‘부엉이’모임\n",
      "[단독]무소속 이용호·손금주·강길부 '민주당 동반 입당' 고려\n",
      "[종합]신임 靑수석 3인방 '정책 체감 주력' 한 목소리\n",
      "국회, '눈먼 쌈짓돈' 특활비 첫 공개…2011~13년 총 1296건\n",
      " 자유한국당 탈당한 강길부, 민주당 입당 타진 \n",
      "`민주당 명함` 주면 빨갱이라고 찢었던 울산 … 확 달라져\n"
     ]
    }
   ],
   "source": [
    "import requests as rq\n",
    "from bs4 import BeautifulSoup as bs\n",
    "req = rq.get('http://news.naver.com/main/ranking/popularDay.nhn')\n",
    "\n",
    "html = req.text\n",
    "soup = bs(html,'html.parser')\n",
    "realtimelist = soup.findAll(\"a\", {\"class\":\"nclicks(rig.rankpol)\"})\n",
    "\n",
    "print(\"---가장 많이 본 뉴스---\")\n",
    "for slist in realtimelist:\n",
    "    print(slist.get_text())"
   ]
  },
  {
   "cell_type": "code",
   "execution_count": null,
   "metadata": {},
   "outputs": [],
   "source": []
  }
 ],
 "metadata": {
  "kernelspec": {
   "display_name": "Python 3",
   "language": "python",
   "name": "python3"
  },
  "language_info": {
   "codemirror_mode": {
    "name": "ipython",
    "version": 3
   },
   "file_extension": ".py",
   "mimetype": "text/x-python",
   "name": "python",
   "nbconvert_exporter": "python",
   "pygments_lexer": "ipython3",
   "version": "3.6.6"
  }
 },
 "nbformat": 4,
 "nbformat_minor": 2
}
